{
 "cells": [
  {
   "cell_type": "code",
   "execution_count": 4,
   "metadata": {},
   "outputs": [
    {
     "data": {
      "text/plain": [
       "'Q1)\\n\\nF = u + v - w\\n\\n    = (a*b) + (a*c) - (b+c)\\n\\n    = a*(b+c) - (b+c)\\n\\n\\nF  = (a - 1)(b + c)\\n'"
      ]
     },
     "execution_count": 4,
     "metadata": {},
     "output_type": "execute_result"
    }
   ],
   "source": [
    "Q1)\n",
    "F = u + v - w\n",
    "  = (a*b) + (a*c) - (b+c)\n",
    "  = a*(b+c) - (b+c)\n",
    "F  = (a - 1)(b + c)\n",
    "\n",
    "\n",
    "\n"
   ]
  },
  {
   "cell_type": "code",
   "execution_count": 5,
   "metadata": {},
   "outputs": [
    {
     "data": {
      "text/plain": [
       "'Q2)\\nWithout bias:\\nx =  (-0.06×2.7) + (2.5×8.6) + (1.4×0.002)  \\n= 21.34\\nf(x) = sigmoid(x)\\n= 1/(1 + exp(-x))\\n= 1/(1 + exp(-21.34))\\nf(x) = 1            [0.99999999]\\n\\nWith bias:\\nx =  (-0.06×2.7) + (2.5×8.6) + (1.4×0.002) + bias  \\n  = 21.34 + (-1.1)\\n  = 20.24\\n\\nf(x) = sigmoid(x)\\n     = 1/(1 + exp(-x))\\n     = 1/(1 + exp(-20.24))\\nf(x) = 1            [0.99999999]\\n\\nIs there any change?\\nNo.\\n\\nWhy do we need bias?\\nA bias, represented in equations as b, lets us move values in one direction or another.\\nImportance of Bias: The main function of Bias is to provide every node with a trainable constant value (in addition to the normal inputs that the node receives).  '"
      ]
     },
     "execution_count": 5,
     "metadata": {},
     "output_type": "execute_result"
    }
   ],
   "source": [
    "Q2)\n",
    "Without bias:\n",
    "x =  (-0.06×2.7) + (2.5×8.6) + (1.4×0.002)  \n",
    "= 21.34\n",
    "f(x) = sigmoid(x)\n",
    "= 1/(1 + exp(-x))\n",
    "= 1/(1 + exp(-21.34))\n",
    "f(x) = 1            [0.99999999]\n",
    "\n",
    "With bias:\n",
    "x =  (-0.06×2.7) + (2.5×8.6) + (1.4×0.002) + bias  \n",
    "  = 21.34 + (-1.1)\n",
    "  = 20.24\n",
    "\n",
    "f(x) = sigmoid(x)\n",
    "     = 1/(1 + exp(-x))\n",
    "     = 1/(1 + exp(-20.24))\n",
    "f(x) = 1            [0.99999999]\n",
    "\n",
    "Is there any change?\n",
    "No.\n",
    "\n",
    "Why do we need bias?\n",
    "A bias, represented in equations as b, lets us move values in one direction or another.\n",
    "Importance of Bias: The main function of Bias is to provide every node with a trainable constant value (in addition to the normal inputs that the node receives)."
   ]
  },
  {
   "cell_type": "code",
   "execution_count": null,
   "metadata": {},
   "outputs": [],
   "source": []
  }
 ],
 "metadata": {
  "kernelspec": {
   "display_name": "Python 3",
   "language": "python",
   "name": "python3"
  }
 },
 "nbformat": 4,
 "nbformat_minor": 2
}
